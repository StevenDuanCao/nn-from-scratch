{
 "cells": [
  {
   "cell_type": "code",
   "execution_count": 42,
   "metadata": {},
   "outputs": [
    {
     "data": {
      "text/plain": [
       "<matplotlib.collections.PathCollection at 0x7fb098fcb4c0>"
      ]
     },
     "execution_count": 42,
     "metadata": {},
     "output_type": "execute_result"
    },
    {
     "data": {
      "image/png": "[encoded data removed]",
      "text/plain": [
       "<Figure size 640x480 with 1 Axes>"
      ]
     },
     "metadata": {},
     "output_type": "display_data"
    }
   ],
   "source": [
    "import numpy as np\n",
    "import matplotlib.pyplot as plt\n",
    "from nn_from_scratch.nn import MLP\n",
    "\n",
    "# DEMO: train binary classification model with a non-linear decision boundary\n",
    "def generate_spiral_data(n_points, noise=0.5):\n",
    "    n = np.random.rand(n_points, 1) * 780 * (2*np.pi) / 360\n",
    "    x1 = -np.cos(n) * n + np.random.rand(n_points, 1) * noise\n",
    "    y1 = np.sin(n) * n + np.random.rand(n_points, 1) * noise\n",
    "    x2 = np.cos(n) * n + np.random.rand(n_points, 1) * noise\n",
    "    y2 = -np.sin(n) * n + np.random.rand(n_points, 1) * noise\n",
    "    X = np.vstack((np.hstack((x1, y1)), np.hstack((x2, y2))))\n",
    "    Y = np.hstack((np.zeros(n_points), np.ones(n_points)))\n",
    "    return X, Y\n",
    "\n",
    "# plotting data\n",
    "X, Y = generate_spiral_data(100)\n",
    "plt.figure()\n",
    "plt.scatter(X[Y == 0, 0], X[Y == 0, 1], color='red')\n",
    "plt.scatter(X[Y == 1, 0], X[Y == 1, 1], color='blue')"
   ]
  },
  {
   "cell_type": "code",
   "execution_count": 61,
   "metadata": {},
   "outputs": [
    {
     "name": "stdout",
     "output_type": "stream",
     "text": [
      "Iter 0 | Loss: 189.27714595273946\n",
      "Iter 10 | Loss: 50.85376688924548\n",
      "Iter 20 | Loss: 49.71912095614186\n",
      "Iter 30 | Loss: 49.00442692163792\n",
      "Iter 40 | Loss: 48.498667488564166\n"
     ]
    }
   ],
   "source": [
    "# initalize model\n",
    "model = MLP([2, 4, 4, 1])\n",
    "num_iter = 50\n",
    "learning_rate = 1e-3\n",
    "\n",
    "# train\n",
    "for k in range(num_iter):\n",
    "    # forward pass\n",
    "    ypred = [model(x) for x in X]\n",
    "    loss = sum((y_a - y_p)**2 for y_a, y_p in zip(Y, ypred))\n",
    "    # backprop\n",
    "    for p in model.parameters():\n",
    "        p.grad = 0 # zero-grad after each iteration\n",
    "    loss.backprop()\n",
    "    # update model\n",
    "    for p in model.parameters():\n",
    "        p.value += -learning_rate * p.grad\n",
    "    \n",
    "    # print training results\n",
    "    if k % 10 == 0:\n",
    "        print(f\"Iter {k} | Loss: {loss.value}\")\n"
   ]
  },
  {
   "cell_type": "code",
   "execution_count": null,
   "metadata": {},
   "outputs": [],
   "source": [
    "# visualize model decision boundary\n",
    "x_min, x_max = X[:, 0].min() - 1, X[:, 0].max() + 1\n",
    "y_min, y_max = X[:, 1].min() - 1, X[:, 1].max() + 1\n",
    "h = 0.1\n",
    "x_grid, y_grid = np.meshgrid(np.arange(x_min, x_max, h),\n",
    "                             np.arange(y_min, y_max, h))\n",
    "Z = np.array([model(x) for x in X]).reshape(x_grid.shape)\n",
    "\n",
    "# plt.figure()\n",
    "# plt.scatter(x_grid, y_grid, marker='o', s=20)"
   ]
  }
 ],
 "metadata": {
  "kernelspec": {
   "display_name": "nn-from-scratch",
   "language": "python",
   "name": "python3"
  },
  "language_info": {
   "codemirror_mode": {
    "name": "ipython",
    "version": 3
   },
   "file_extension": ".py",
   "mimetype": "text/x-python",
   "name": "python",
   "nbconvert_exporter": "python",
   "pygments_lexer": "ipython3",
   "version": "3.9.19"
  }
 },
 "nbformat": 4,
 "nbformat_minor": 2
}
